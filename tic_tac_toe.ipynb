{
  "nbformat": 4,
  "nbformat_minor": 0,
  "metadata": {
    "colab": {
      "provenance": [],
      "authorship_tag": "ABX9TyN1RxFhgYkc1yVxpqjMZ1nl",
      "include_colab_link": true
    },
    "kernelspec": {
      "name": "python3",
      "display_name": "Python 3"
    },
    "language_info": {
      "name": "python"
    }
  },
  "cells": [
    {
      "cell_type": "markdown",
      "metadata": {
        "id": "view-in-github",
        "colab_type": "text"
      },
      "source": [
        "<a href=\"https://colab.research.google.com/github/vini-devizin/tic-tac-toe-py/blob/main/tic_tac_toe.ipynb\" target=\"_parent\"><img src=\"https://colab.research.google.com/assets/colab-badge.svg\" alt=\"Open In Colab\"/></a>"
      ]
    },
    {
      "cell_type": "code",
      "source": [
        "from time import sleep"
      ],
      "metadata": {
        "id": "syR1onWvb76U"
      },
      "execution_count": 2,
      "outputs": []
    },
    {
      "cell_type": "code",
      "source": [
        "def ask(player): # pergunta ao jogador em qual posição ele quer jogar\n",
        "  while True:\n",
        "    try:\n",
        "      coluna = int(input(f'em qual coluna o jogador {player} vai jogar: ')) # pergunta a coluna\n",
        "      sleep(1)\n",
        "      if coluna > 2: # verifica se o valor digitado é maior que 2\n",
        "        print('\\033[0;31tente novamente')\n",
        "        sleep(1)\n",
        "      else:\n",
        "        break\n",
        "    except ValueError:\n",
        "      print('\\033[0;31mvocê não deve digitar caracteres ou números com casa decimal')\n",
        "  while True:\n",
        "    try:\n",
        "      linha = int(input(f'em qual linha o jogador {player} vai jogar: ')) # pergunta a linha\n",
        "      sleep(1)\n",
        "      if linha > 2: # verifica se o valor digitado é maior que 2\n",
        "        print('\\033[0;31mtente novamente')\n",
        "        sleep(1)\n",
        "      else:\n",
        "        break\n",
        "    except ValueError:\n",
        "      print('\\033[0;31mvocê não deve digitar caracteres ou números com casa decimal')\n",
        "  return linha, coluna\n",
        "def verify(tabuleiro): # função para verificar vencedor\n",
        "  # verifica as linhas\n",
        "  for row in tabuleiro:\n",
        "    if row[0] == row[1] == row[2] and row[0] != ' ':\n",
        "      return row[0]\n",
        "  # verifica as colunas\n",
        "  for col in range(0, 3):\n",
        "    if tabuleiro[0][col] == tabuleiro[1][col] == tabuleiro[2][col] and tabuleiro[0][col] != ' ':\n",
        "      return tabuleiro[0][col]\n",
        "  # verifica as diagonais\n",
        "  if tabuleiro[0][0] == tabuleiro[1][1] == tabuleiro[2][2] and tabuleiro[0][0] != ' ':\n",
        "    return tabuleiro[0][0]\n",
        "  if tabuleiro[0][2] == tabuleiro[1][1] == tabuleiro[2][0] and tabuleiro[0][2] != ' ':\n",
        "    return tabuleiro[0][2]\n",
        "  return None # caso ninguem ganhou ainda\n",
        "def draw(): # desenha o tabuleiro\n",
        "  print('\\033[0;32m  0   1   2')\n",
        "  for row in range(0, 3):\n",
        "    for column in range(0, 3):\n",
        "      if column == 0:\n",
        "        print(f'{row}[{array[row][column]}]', end=' ')\n",
        "      else:\n",
        "        print(f'[{array[row][column]}]', end=' ')\n",
        "    print()\n",
        "def continueGame(): # pergunta se quer continuar jogando\n",
        "  while True:\n",
        "    cont = str(input('quer continuar[S/N]: ')).lower()\n",
        "    if cont in ('s', 'n', 'sim', 'não', 'nao'):\n",
        "      break\n",
        "    else:\n",
        "      print('\\033[0;31mdigite S ou N')\n",
        "  if cont in ('s', 'sim'):\n",
        "    main() # reinicia o jogo\n",
        "def updateScoreBoard(vencedor): # atualiza o placar\n",
        "  if vencedor == 'X':\n",
        "    scoreBoard['player1'] += 1\n",
        "  elif vencedor == 'O':\n",
        "    scoreBoard['player2'] += 1\n",
        "  else:\n",
        "    scoreBoard['empates'] += 1\n",
        "def showScoreBoard(): # mostra o placar\n",
        "  print(f'{\"-=\" * 4} {\"<< placar >>\"} {\"-=\" * 4}')\n",
        "  for key, value in scoreBoard.items():\n",
        "    sleep(1)\n",
        "    print(f'{key}: {value}')\n",
        "  print('-=' * 15)"
      ],
      "metadata": {
        "id": "UYzMSiQJb7qy"
      },
      "execution_count": 7,
      "outputs": []
    },
    {
      "cell_type": "code",
      "execution_count": null,
      "metadata": {
        "id": "PEMNpOd7bzhE"
      },
      "outputs": [],
      "source": [
        "array = [] # tabuleiro sem definição\n",
        "scoreBoard = { # placar\n",
        "    'player1': 0,\n",
        "    'player2': 0,\n",
        "    'empates': 0\n",
        "}\n",
        "print('-=' * 15)\n",
        "print(f'{\"jogo da velha\":^30}')\n",
        "print('-=' * 15)\n",
        "def main(): # função principal\n",
        "  global array # definindo array como global\n",
        "  array = [[' ', ' ', ' '], [' ', ' ', ' '], [' ', ' ', ' ']] # tabuleiro todo vazio\n",
        "  atual = 'X' # jogador atual\n",
        "  showScoreBoard()\n",
        "  for turns in range(0, 9): # quantidade maxima de turnos do jogo da velha\n",
        "    draw()\n",
        "    sleep(1)\n",
        "    row, col = ask(atual) # faz a pergunta de qual linha e coluna vai jogar\n",
        "    while True:\n",
        "      if array[row][col] == ' ': # verificando se o espaço escolhido está limpo\n",
        "        array[row][col] = f'\\033[1;031m{atual}\\033[0;32m' if atual == 'X' else f'\\033[1;34m{atual}\\033[0;32m'\n",
        "        break\n",
        "      else:\n",
        "        sleep(1)\n",
        "        print('\\033[0;31mposição ocupada! tente novamente')\n",
        "        sleep(1)\n",
        "        draw()\n",
        "        sleep(1)\n",
        "        row, col = ask(atual) # refazendo a pergunta de qual linha e coluna vai jogar\n",
        "    winner = verify(array) # pega o resultado se alguem ganhou ou não\n",
        "    if winner: # verifica o resultado\n",
        "      sleep(1)\n",
        "      draw()\n",
        "      sleep(1)\n",
        "      print(f'\\033[0;32mparabens! jogador {atual} venceu!')\n",
        "      updateScoreBoard(atual)\n",
        "      continueGame()\n",
        "      return\n",
        "    atual = 'O' if atual == 'X' else 'X' # muda para jogador x ou o\n",
        "  draw()\n",
        "  sleep(1)\n",
        "  print('\\033[0;33mDeu velha! jogador X e jogador O empataram') # caso dê velha\n",
        "  sleep(1)\n",
        "  updateScoreBoard(None)\n",
        "  continueGame()\n",
        "main()\n",
        "showScoreBoard()"
      ]
    }
  ]
}